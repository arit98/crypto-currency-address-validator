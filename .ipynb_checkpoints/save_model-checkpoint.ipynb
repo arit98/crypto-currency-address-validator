{
 "cells": [
  {
   "cell_type": "markdown",
   "id": "0e6a3534",
   "metadata": {},
   "source": [
    "# Cryptocurrency classifier"
   ]
  },
  {
   "cell_type": "markdown",
   "id": "646c07bb",
   "metadata": {},
   "source": [
    "## import data"
   ]
  },
  {
   "cell_type": "code",
   "execution_count": 3,
   "id": "186c9963",
   "metadata": {},
   "outputs": [],
   "source": [
    "import pandas as pd\n",
    "from sklearn.feature_extraction.text import TfidfVectorizer\n",
    "from sklearn.model_selection import train_test_split\n",
    "from sklearn.svm import SVC\n",
    "from sklearn.metrics import classification_report, accuracy_score, confusion_matrix\n",
    "import joblib"
   ]
  },
  {
   "cell_type": "markdown",
   "id": "feff6677",
   "metadata": {},
   "source": [
    "## import csv"
   ]
  },
  {
   "cell_type": "code",
   "execution_count": null,
   "id": "83c0b1c8",
   "metadata": {},
   "outputs": [],
   "source": [
    "btc_data = pd.read_csv('dataset/btc_address.csv')\n",
    "eth_data = pd.read_csv('dataset/eth_address.csv')\n",
    "trx_data = pd.read_csv('dataset/trx_address.csv')"
   ]
  },
  {
   "cell_type": "markdown",
   "id": "fda73747",
   "metadata": {},
   "source": [
    "## print and check to asure data"
   ]
  },
  {
   "cell_type": "code",
   "execution_count": null,
   "id": "c9c129d8",
   "metadata": {},
   "outputs": [],
   "source": [
    "print(btc_data.head())\n",
    "print(eth_data.head())\n",
    "print(trx_data.head())"
   ]
  },
  {
   "cell_type": "markdown",
   "id": "1205aebf",
   "metadata": {},
   "source": [
    "## concatenate the data and shuffled"
   ]
  },
  {
   "cell_type": "code",
   "execution_count": null,
   "id": "59be7ed6",
   "metadata": {},
   "outputs": [],
   "source": [
    "data = pd.concat([btc_data, eth_data, trx_data], ignore_index=True)\n",
    "data = data.sample(frac=1).reset_index(drop=True)"
   ]
  },
  {
   "cell_type": "markdown",
   "id": "3467edbd",
   "metadata": {},
   "source": [
    "## split the data into (label and features) and vectorize the address"
   ]
  },
  {
   "cell_type": "code",
   "execution_count": null,
   "id": "9545c0d1",
   "metadata": {},
   "outputs": [],
   "source": [
    "X = data['address']\n",
    "y = data['type']\n",
    "\n",
    "vectorizer = TfidfVectorizer()\n",
    "X = vectorizer.fit_transform(X)"
   ]
  },
  {
   "cell_type": "markdown",
   "id": "099d5b54",
   "metadata": {},
   "source": [
    "## split data into train and test sets"
   ]
  },
  {
   "cell_type": "code",
   "execution_count": null,
   "id": "d6c743f0",
   "metadata": {},
   "outputs": [],
   "source": [
    "X_train, X_test, y_train, y_test = train_test_split(X, y, test_size=0.2, random_state=42)"
   ]
  },
  {
   "cell_type": "markdown",
   "id": "dc475f42",
   "metadata": {},
   "source": [
    "## train the model"
   ]
  },
  {
   "cell_type": "code",
   "execution_count": null,
   "id": "129f30ef",
   "metadata": {},
   "outputs": [],
   "source": [
    "svm_classifier = SVC(kernel='linear')\n",
    "svm_classifier.fit(X_train, y_train)"
   ]
  },
  {
   "cell_type": "markdown",
   "id": "c5a50543",
   "metadata": {},
   "source": [
    "## Save the model and vectorizer"
   ]
  },
  {
   "cell_type": "code",
   "execution_count": null,
   "id": "5b58000f",
   "metadata": {},
   "outputs": [],
   "source": [
    "joblib.dump(svm_classifier, 'model/svm_classifier.pkl')\n",
    "joblib.dump(vectorizer, 'model/vectorizer.pkl')\n",
    "print(\"Model and vectorizer has saved successfully\")"
   ]
  }
 ],
 "metadata": {
  "kernelspec": {
   "display_name": "Python 3 (ipykernel)",
   "language": "python",
   "name": "python3"
  },
  "language_info": {
   "codemirror_mode": {
    "name": "ipython",
    "version": 3
   },
   "file_extension": ".py",
   "mimetype": "text/x-python",
   "name": "python",
   "nbconvert_exporter": "python",
   "pygments_lexer": "ipython3",
   "version": "3.11.7"
  }
 },
 "nbformat": 4,
 "nbformat_minor": 5
}
