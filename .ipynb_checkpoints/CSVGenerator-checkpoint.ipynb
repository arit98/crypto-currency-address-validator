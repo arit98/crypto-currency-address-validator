{
 "cells": [
  {
   "cell_type": "markdown",
   "id": "32b5d5f8",
   "metadata": {},
   "source": [
    "## import library"
   ]
  },
  {
   "cell_type": "code",
   "execution_count": 14,
   "id": "5f61dc91",
   "metadata": {},
   "outputs": [
    {
     "name": "stdout",
     "output_type": "stream",
     "text": [
      "23484 Ethereum addresses have been saved to eth_addresses.csv\n"
     ]
    }
   ],
   "source": [
    "import os\n",
    "import ecdsa\n",
    "import hashlib\n",
    "import base58\n",
    "import pandas as pd\n",
    "from eth_utils import to_checksum_address"
   ]
  },
  {
   "cell_type": "markdown",
   "id": "68b180a4",
   "metadata": {},
   "source": [
    "## generate a eth function"
   ]
  },
  {
   "cell_type": "code",
   "execution_count": null,
   "id": "8213ba9e",
   "metadata": {},
   "outputs": [],
   "source": [
    "def generate_eth_address():\n",
    "    private_key = os.urandom(32)\n",
    "    \n",
    "    sk = ecdsa.SigningKey.from_string(private_key, curve=ecdsa.SECP256k1)\n",
    "    vk = sk.verifying_key\n",
    "    public_key = b'\\x04' + vk.to_string()\n",
    "    \n",
    "    keccak = hashlib.new('sha3_256')\n",
    "    keccak.update(public_key[1:])\n",
    "    public_key_hash = keccak.digest()\n",
    "    \n",
    "    eth_address = public_key_hash[-20:]\n",
    "    \n",
    "    eth_address_checksum = to_checksum_address('0x' + eth_address.hex())\n",
    "    \n",
    "    return eth_address_checksum"
   ]
  },
  {
   "cell_type": "markdown",
   "id": "dac6b39f",
   "metadata": {},
   "source": [
    "## generate tron function"
   ]
  },
  {
   "cell_type": "code",
   "execution_count": 2,
   "id": "afc7adfc",
   "metadata": {},
   "outputs": [],
   "source": [
    "def generate_tron_address():\n",
    "    private_key = os.urandom(32)\n",
    "    \n",
    "    sk = ecdsa.SigningKey.from_string(private_key, curve=ecdsa.SECP256k1)\n",
    "    vk = sk.verifying_key\n",
    "    public_key = b'\\x04' + vk.to_string()\n",
    "    \n",
    "    keccak = hashlib.new('sha3_256')\n",
    "    keccak.update(public_key)\n",
    "    public_key_hash = keccak.digest()\n",
    "    \n",
    "    tron_address = public_key_hash[-20:]\n",
    "    \n",
    "    tron_address_with_prefix = b'\\x41' + tron_address\n",
    "    \n",
    "    checksum = hashlib.sha256(hashlib.sha256(tron_address_with_prefix).digest()).digest()[:4]\n",
    "    address_base58 = base58.b58encode(tron_address_with_prefix + checksum)\n",
    "    \n",
    "    return address_base58.decode()"
   ]
  },
  {
   "cell_type": "markdown",
   "id": "ea6c4cb8",
   "metadata": {},
   "source": [
    "## generate 1000 Tron addresses"
   ]
  },
  {
   "cell_type": "code",
   "execution_count": 3,
   "id": "1fe74b10",
   "metadata": {},
   "outputs": [
    {
     "ename": "NameError",
     "evalue": "name 'os' is not defined",
     "output_type": "error",
     "traceback": [
      "\u001b[1;31m---------------------------------------------------------------------------\u001b[0m",
      "\u001b[1;31mNameError\u001b[0m                                 Traceback (most recent call last)",
      "Cell \u001b[1;32mIn[3], line 2\u001b[0m\n\u001b[0;32m      1\u001b[0m num_addresses \u001b[38;5;241m=\u001b[39m \u001b[38;5;241m1000\u001b[39m\n\u001b[1;32m----> 2\u001b[0m addresses \u001b[38;5;241m=\u001b[39m [generate_tron_address() \u001b[38;5;28;01mfor\u001b[39;00m _ \u001b[38;5;129;01min\u001b[39;00m \u001b[38;5;28mrange\u001b[39m(num_addresses)]\n\u001b[0;32m      4\u001b[0m \u001b[38;5;66;03m# Write the addresses to a CSV file\u001b[39;00m\n\u001b[0;32m      5\u001b[0m csv_file \u001b[38;5;241m=\u001b[39m \u001b[38;5;124m'\u001b[39m\u001b[38;5;124mtron_addresses.csv\u001b[39m\u001b[38;5;124m'\u001b[39m\n",
      "Cell \u001b[1;32mIn[3], line 2\u001b[0m, in \u001b[0;36m<listcomp>\u001b[1;34m(.0)\u001b[0m\n\u001b[0;32m      1\u001b[0m num_addresses \u001b[38;5;241m=\u001b[39m \u001b[38;5;241m1000\u001b[39m\n\u001b[1;32m----> 2\u001b[0m addresses \u001b[38;5;241m=\u001b[39m [generate_tron_address() \u001b[38;5;28;01mfor\u001b[39;00m _ \u001b[38;5;129;01min\u001b[39;00m \u001b[38;5;28mrange\u001b[39m(num_addresses)]\n\u001b[0;32m      4\u001b[0m \u001b[38;5;66;03m# Write the addresses to a CSV file\u001b[39;00m\n\u001b[0;32m      5\u001b[0m csv_file \u001b[38;5;241m=\u001b[39m \u001b[38;5;124m'\u001b[39m\u001b[38;5;124mtron_addresses.csv\u001b[39m\u001b[38;5;124m'\u001b[39m\n",
      "Cell \u001b[1;32mIn[2], line 2\u001b[0m, in \u001b[0;36mgenerate_tron_address\u001b[1;34m()\u001b[0m\n\u001b[0;32m      1\u001b[0m \u001b[38;5;28;01mdef\u001b[39;00m \u001b[38;5;21mgenerate_tron_address\u001b[39m():\n\u001b[1;32m----> 2\u001b[0m     private_key \u001b[38;5;241m=\u001b[39m os\u001b[38;5;241m.\u001b[39murandom(\u001b[38;5;241m32\u001b[39m)\n\u001b[0;32m      4\u001b[0m     sk \u001b[38;5;241m=\u001b[39m ecdsa\u001b[38;5;241m.\u001b[39mSigningKey\u001b[38;5;241m.\u001b[39mfrom_string(private_key, curve\u001b[38;5;241m=\u001b[39mecdsa\u001b[38;5;241m.\u001b[39mSECP256k1)\n\u001b[0;32m      5\u001b[0m     vk \u001b[38;5;241m=\u001b[39m sk\u001b[38;5;241m.\u001b[39mverifying_key\n",
      "\u001b[1;31mNameError\u001b[0m: name 'os' is not defined"
     ]
    }
   ],
   "source": [
    "num_addresses = 1000\n",
    "addresses = [generate_tron_address() for _ in range(num_addresses)]\n",
    "\n",
    "csv_file = 'tron_addresses.csv'\n",
    "with open(csv_file, mode='w', newline='') as file:\n",
    "    writer = csv.writer(file)\n",
    "    writer.writerow(['Tron Address'])\n",
    "    for address in addresses:\n",
    "        writer.writerow([address])\n",
    "\n",
    "print(f'{num_addresses} Tron addresses have been generated and saved to {csv_file}.')"
   ]
  },
  {
   "cell_type": "markdown",
   "id": "186d295f",
   "metadata": {},
   "source": [
    "## generate 1000 Ethereum addresses"
   ]
  },
  {
   "cell_type": "code",
   "execution_count": null,
   "id": "e0d63048",
   "metadata": {},
   "outputs": [],
   "source": [
    "eth_addresses = [generate_eth_address() for _ in range(23484)]\n",
    "\n",
    "# Save to CSV\n",
    "df = pd.DataFrame(eth_addresses, columns=[\"address\"])\n",
    "df.to_csv(\"eth_addresses.csv\", index=False)\n",
    "\n",
    "print(\"23484 Ethereum addresses have been saved to eth_addresses.csv\")"
   ]
  },
  {
   "cell_type": "code",
   "execution_count": null,
   "id": "12dfba46",
   "metadata": {},
   "outputs": [],
   "source": []
  }
 ],
 "metadata": {
  "kernelspec": {
   "display_name": "Python 3 (ipykernel)",
   "language": "python",
   "name": "python3"
  },
  "language_info": {
   "codemirror_mode": {
    "name": "ipython",
    "version": 3
   },
   "file_extension": ".py",
   "mimetype": "text/x-python",
   "name": "python",
   "nbconvert_exporter": "python",
   "pygments_lexer": "ipython3",
   "version": "3.11.7"
  }
 },
 "nbformat": 4,
 "nbformat_minor": 5
}
