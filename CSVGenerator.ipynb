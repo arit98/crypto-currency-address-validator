{
 "cells": [
  {
   "cell_type": "markdown",
   "id": "89767e1f",
   "metadata": {},
   "source": [
    "## import library"
   ]
  },
  {
   "cell_type": "code",
   "execution_count": 8,
   "id": "5f61dc91",
   "metadata": {},
   "outputs": [],
   "source": [
    "import os\n",
    "import ecdsa\n",
    "import hashlib\n",
    "import base58\n",
    "import pandas as pd\n",
    "import csv\n",
    "from eth_utils import to_checksum_address"
   ]
  },
  {
   "cell_type": "markdown",
   "id": "85a764cd",
   "metadata": {},
   "source": [
    "## generate a eth function"
   ]
  },
  {
   "cell_type": "code",
   "execution_count": 9,
   "id": "8213ba9e",
   "metadata": {},
   "outputs": [],
   "source": [
    "def generate_eth_address():\n",
    "    private_key = os.urandom(32)\n",
    "    \n",
    "    sk = ecdsa.SigningKey.from_string(private_key, curve=ecdsa.SECP256k1)\n",
    "    vk = sk.verifying_key\n",
    "    public_key = b'\\x04' + vk.to_string()\n",
    "    \n",
    "    keccak = hashlib.new('sha3_256')\n",
    "    keccak.update(public_key[1:])\n",
    "    public_key_hash = keccak.digest()\n",
    "    \n",
    "    eth_address = public_key_hash[-20:]\n",
    "    \n",
    "    eth_address_checksum = to_checksum_address('0x' + eth_address.hex())\n",
    "    \n",
    "    return eth_address_checksum"
   ]
  },
  {
   "cell_type": "markdown",
   "id": "6e0f6d78",
   "metadata": {},
   "source": [
    "## generate tron function"
   ]
  },
  {
   "cell_type": "code",
   "execution_count": 10,
   "id": "0302074a",
   "metadata": {},
   "outputs": [],
   "source": [
    "def generate_tron_address():\n",
    "    private_key = os.urandom(32)\n",
    "    \n",
    "    sk = ecdsa.SigningKey.from_string(private_key, curve=ecdsa.SECP256k1)\n",
    "    vk = sk.verifying_key\n",
    "    public_key = b'\\x04' + vk.to_string()\n",
    "    \n",
    "    keccak = hashlib.new('sha3_256')\n",
    "    keccak.update(public_key)\n",
    "    public_key_hash = keccak.digest()\n",
    "    \n",
    "    tron_address = public_key_hash[-20:]\n",
    "    \n",
    "    tron_address_with_prefix = b'\\x41' + tron_address\n",
    "    \n",
    "    checksum = hashlib.sha256(hashlib.sha256(tron_address_with_prefix).digest()).digest()[:4]\n",
    "    address_base58 = base58.b58encode(tron_address_with_prefix + checksum)\n",
    "    \n",
    "    return address_base58.decode()"
   ]
  },
  {
   "cell_type": "markdown",
   "id": "83de6979",
   "metadata": {},
   "source": [
    "## generate 1000 Tron addresses"
   ]
  },
  {
   "cell_type": "code",
   "execution_count": 11,
   "id": "5fdb1054",
   "metadata": {},
   "outputs": [
    {
     "name": "stdout",
     "output_type": "stream",
     "text": [
      "1000 Tron addresses have been generated and saved to tron_addresses.csv.\n"
     ]
    }
   ],
   "source": [
    "num_addresses = 1000\n",
    "addresses = [generate_tron_address() for _ in range(num_addresses)]\n",
    "\n",
    "csv_file = 'tron_addresses.csv'\n",
    "with open(csv_file, mode='w', newline='') as file:\n",
    "    writer = csv.writer(file)\n",
    "    writer.writerow(['Tron Address'])\n",
    "    for address in addresses:\n",
    "        writer.writerow([address])\n",
    "\n",
    "print(f'{num_addresses} Tron addresses have been generated and saved to {csv_file}.')"
   ]
  },
  {
   "cell_type": "markdown",
   "id": "61dea00d",
   "metadata": {},
   "source": [
    "## generate 1000 Ethereum addresses"
   ]
  },
  {
   "cell_type": "code",
   "execution_count": null,
   "id": "3ac34ea4",
   "metadata": {},
   "outputs": [],
   "source": [
    "eth_addresses = [generate_eth_address() for _ in range(23484)]\n",
    "\n",
    "# Save to CSV\n",
    "df = pd.DataFrame(eth_addresses, columns=[\"address\"])\n",
    "df.to_csv(\"eth_addresses.csv\", index=False)\n",
    "\n",
    "print(\"23484 Ethereum addresses have been saved to eth_addresses.csv\")"
   ]
  },
  {
   "cell_type": "code",
   "execution_count": null,
   "id": "57e9572b",
   "metadata": {},
   "outputs": [],
   "source": []
  }
 ],
 "metadata": {
  "kernelspec": {
   "display_name": "Python 3 (ipykernel)",
   "language": "python",
   "name": "python3"
  },
  "language_info": {
   "codemirror_mode": {
    "name": "ipython",
    "version": 3
   },
   "file_extension": ".py",
   "mimetype": "text/x-python",
   "name": "python",
   "nbconvert_exporter": "python",
   "pygments_lexer": "ipython3",
   "version": "3.11.7"
  }
 },
 "nbformat": 4,
 "nbformat_minor": 5
}
